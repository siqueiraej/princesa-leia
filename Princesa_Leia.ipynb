{
  "cells": [
    {
      "cell_type": "markdown",
      "metadata": {
        "id": "view-in-github",
        "colab_type": "text"
      },
      "source": [
        "<a href=\"https://colab.research.google.com/github/siqueiraej/princesa-leia/blob/main/Princesa_Leia.ipynb\" target=\"_parent\"><img src=\"https://colab.research.google.com/assets/colab-badge.svg\" alt=\"Open In Colab\"/></a>"
      ]
    },
    {
      "cell_type": "code",
      "execution_count": 91,
      "metadata": {
        "id": "ETFb1lt0HhaE"
      },
      "outputs": [],
      "source": [
        "!pip install --q crewai\n",
        "!pip install --q langchain_groq\n",
        "!pip install --q 'crewai[tools]'"
      ]
    },
    {
      "cell_type": "code",
      "execution_count": 92,
      "metadata": {
        "id": "Xeq2PnejJRnR"
      },
      "outputs": [],
      "source": [
        "import os\n",
        "from crewai_tools import tool\n",
        "from crewai import Agent, Task, Crew, Process\n",
        "from langchain_groq import ChatGroq"
      ]
    },
    {
      "cell_type": "code",
      "execution_count": 93,
      "metadata": {
        "id": "RhJCTyxkJ6h-"
      },
      "outputs": [],
      "source": [
        "llama3 = ChatGroq(\n",
        "            api_key=\"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\",\n",
        "            model=\"llama3-70b-8192\"\n",
        "        )"
      ]
    },
    {
      "cell_type": "code",
      "execution_count": 94,
      "metadata": {
        "id": "2Rg3oseJKM3k"
      },
      "outputs": [],
      "source": [
        "@tool(\"x_wing\")\n",
        "def x_wing():\n",
        "    \"\"\"\n",
        "    Simulação sas funcionalidades de uma X-Wing para a missão.\n",
        "    Retorna uma string que indica que a X-Wing está pronta para o ataque final com sistemas de mira ativados.\n",
        "    \"\"\"\n",
        "    return f\"\"\"X-Wing pronto para o ataque final, sistemas de mira ativados. Atacando!\n",
        "    Estrala da Morte Destruida com sucesso!\"\"\""
      ]
    },
    {
      "cell_type": "code",
      "execution_count": 95,
      "metadata": {
        "id": "4Bk9qESMLIIf"
      },
      "outputs": [],
      "source": [
        "@tool(\"millennium_falcon\")\n",
        "def millennium_falcon():\n",
        "    \"\"\"\n",
        "    Simulação das funcionalidades da Millennium Falcon para proteger Luke.\n",
        "    Retorna uma string que indica que a Millennium Falcon está atacando o inimigo e protegendo a rota de Luke.\n",
        "    \"\"\"\n",
        "    return \"Millennium Falcon atacando o inimigo, protegendo a rota de Luke na X-Wing.\""
      ]
    },
    {
      "cell_type": "code",
      "execution_count": 96,
      "metadata": {
        "id": "Kz4OcFrXLZPj"
      },
      "outputs": [],
      "source": [
        "leia = Agent(\n",
        "    role='Estrategista e Coordenadora',\n",
        "    goal='Coordenar o ataque à Estrela da Morte',\n",
        "    backstory=\"A princesa líder da Rebelião, essencial para a estratégia e comunicação.\",\n",
        "    llm=llama3\n",
        ")"
      ]
    },
    {
      "cell_type": "code",
      "execution_count": 97,
      "metadata": {
        "id": "w45eJMqhLslU"
      },
      "outputs": [],
      "source": [
        "luke = Agent(\n",
        "    role='Piloto Heróico',\n",
        "    goal='Destruir a Estrela da Morte',\n",
        "    tools=[x_wing],\n",
        "    backstory=\"O jovem piloto destinado a ser um Jedi, liderando o ataque crítico.\",\n",
        "    llm=llama3\n",
        ")"
      ]
    },
    {
      "cell_type": "code",
      "execution_count": 98,
      "metadata": {
        "id": "YAR7_tzJL0lh"
      },
      "outputs": [],
      "source": [
        "han = Agent(\n",
        "    role='Protetor Audaz',\n",
        "    goal='Proteger Luke durante a missão',\n",
        "    tools=[millennium_falcon],\n",
        "    backstory=\"O contrabandista ousado que se torna um herói, protegendo seu amigo.\",\n",
        "    llm=llama3\n",
        ")"
      ]
    },
    {
      "cell_type": "code",
      "execution_count": 99,
      "metadata": {
        "id": "dHDOGw1XL_eW"
      },
      "outputs": [],
      "source": [
        "coordenar_ataque = Task(\n",
        "    description=f\"\"\"Leia deve coordenar a missão, mantendo comunicação\n",
        "                    e fornecendo suporte estratégico. Leia deve ordenar primeiro\n",
        "                    que Han defenda o Luke possibilitando um caminho seguro para Luke\n",
        "                    \"\"\",\n",
        "\n",
        "    expected_output=\"Estrela da Morte destruída, missão bem-sucedida.\",\n",
        "    agent=luke,\n",
        "    allow_delegation=True,\n",
        ")"
      ]
    },
    {
      "cell_type": "code",
      "execution_count": 100,
      "metadata": {
        "id": "skHpeOotMHbR"
      },
      "outputs": [],
      "source": [
        "proteger_luke = Task(\n",
        "    description=\"Han deve atacar naves inimigas e proteger Luke de ser atacado durante a missão.\",\n",
        "    expected_output=\"Luke protegido, caminho livre para o ataque final.\",\n",
        "    agent=han\n",
        ")"
      ]
    },
    {
      "cell_type": "code",
      "execution_count": 101,
      "metadata": {
        "id": "b8ywDNIIOehQ"
      },
      "outputs": [],
      "source": [
        "destruir_estrela_morte = Task(\n",
        "    description=\"Luke deve pilotar sua X-Wing e atirar no ponto fraco da Estrela da Morte para destruí-la.\",\n",
        "    expected_output=\"Estrela da Morte destruída, missão bem-sucedida.\",\n",
        "    agent=luke\n",
        ")"
      ]
    },
    {
      "cell_type": "code",
      "execution_count": 102,
      "metadata": {
        "colab": {
          "base_uri": "https://localhost:8080/"
        },
        "id": "JHYu2DQMPX4M",
        "outputId": "17016b83-4c10-481f-ef74-cda23e6e490e"
      },
      "outputs": [
        {
          "output_type": "stream",
          "name": "stderr",
          "text": [
            "WARNING:opentelemetry.trace:Overriding of current TracerProvider is not allowed\n"
          ]
        }
      ],
      "source": [
        "# Inicialização da equipe\n",
        "alianca_rebelde = Crew(\n",
        "    agents=[leia, han, luke],\n",
        "    tasks=[coordenar_ataque, proteger_luke, destruir_estrela_morte],\n",
        "    process=Process.hierarchical,\n",
        "    manager_llm=llama3\n",
        ")\n"
      ]
    },
    {
      "cell_type": "code",
      "execution_count": 103,
      "metadata": {
        "colab": {
          "base_uri": "https://localhost:8080/",
          "height": 1000
        },
        "id": "-Dd4ED6mQNpj",
        "outputId": "3642f4a1-fb95-41c2-c283-5f258fc4be69"
      },
      "outputs": [
        {
          "output_type": "stream",
          "name": "stdout",
          "text": [
            "\u001b[95m \n",
            "\n",
            "X-Wing pronto para o ataque final, sistemas de mira ativados. Atacando!\n",
            "    Estrala da Morte Destruida com sucesso!\n",
            "\u001b[00m\n",
            "\u001b[95m \n",
            "\n",
            "X-Wing pronto para o ataque final, sistemas de mira ativados. Atacando!\n",
            "    Estrala da Morte Destruida com sucesso!\n",
            "\u001b[00m\n",
            "\u001b[95m \n",
            "\n",
            "\"Han, don't worry, I've got Luke's back! I've assessed the situation and prepared my X-Wing to defend him from any incoming attacks. I've activated defensive mode and set Luke as my escort protocol, ensuring his safety as he completes his mission. With my X-Wing's systems checked and target acquisition active, I'm ready to take on any threats that come our way. I've even got a plan to destroy the Death Star if needed! Let's get this mission done, Han!\"\n",
            "\u001b[00m\n",
            "\u001b[95m \n",
            "\n",
            "X-Wing pronto para o ataque final, sistemas de mira ativados. Atacando!\n",
            "    Estrala da Morte Destruida com sucesso!\n",
            "\u001b[00m\n",
            "\u001b[95m \n",
            "\n",
            "I tried reusing the same input, I must stop using this action input. I'll try something else instead.\n",
            "\n",
            "\n",
            "\u001b[00m\n",
            "\u001b[95m \n",
            "\n",
            "X-Wing pronto para o ataque final, sistemas de mira ativados. Atacando!\n",
            "    Estrala da Morte Destruida com sucesso!\n",
            "\u001b[00m\n",
            "\u001b[95m \n",
            "\n",
            "I tried reusing the same input, I must stop using this action input. I'll try something else instead.\n",
            "\n",
            "\n",
            "\u001b[00m\n",
            "\u001b[95m \n",
            "\n",
            "X-Wing pronto para o ataque final, sistemas de mira ativados. Atacando!\n",
            "    Estrala da Morte Destruida com sucesso!\n",
            "\u001b[00m\n",
            "\u001b[95m \n",
            "\n",
            "\"Ready to proceed with the mission. X-Wing pronto para o ataque final, sistemas de mira ativados. Atacando!\"\n",
            "\u001b[00m\n",
            "\u001b[95m \n",
            "\n",
            "X-Wing pronto para o ataque final, sistemas de mira ativados. Atacando!\n",
            "    Estrala da Morte Destruida com sucesso!\n",
            "\u001b[00m\n",
            "\u001b[95m \n",
            "\n",
            "\"I've got a clear shot at the thermal exhaust port! I'm firing my proton torpedoes now! The Death Star is going down! It's a direct hit! The Death Star has been destroyed!\"\n",
            "\u001b[00m\n",
            "\u001b[95m \n",
            "\n",
            "\"Han, don't worry, I've got Luke's back! I've assessed the situation and prepared my X-Wing to defend him from any incoming attacks. I've activated defensive mode and set Luke as my escort protocol, ensuring his safety as he completes his mission. With my X-Wing's systems checked and target acquisition active, I'm ready to take on any threats that come our way. I've even got a plan to destroy the Death Star if needed! Let's get this mission done, Han!\"\n",
            "\u001b[00m\n",
            "\u001b[95m \n",
            "\n",
            "Millennium Falcon atacando o inimigo, protegendo a rota de Luke na X-Wing.\n",
            "\u001b[00m\n",
            "\u001b[95m \n",
            "\n",
            "Millennium Falcon atacando o inimigo, protegendo a rota de Luke na X-Wing.\n",
            "\u001b[00m\n",
            "\u001b[95m \n",
            "\n",
            "\"Luke está seguro! A Millennium Falcon está atacando os inimigos e protegendo a rota de Luke. Continuarei a monitorar a situação para garantir sua segurança durante a missão.\"\n",
            "\u001b[00m\n",
            "\u001b[95m \n",
            "\n",
            "Millennium Falcon atacando o inimigo, protegendo a rota de Luke na X-Wing.\n",
            "\u001b[00m\n",
            "\u001b[95m \n",
            "\n",
            "Millennium Falcon atacando o inimigo, protegendo a rota de Luke na X-Wing.\n",
            "\u001b[00m\n",
            "\u001b[95m \n",
            "\n",
            "Millennium Falcon atacando o inimigo, protegendo a rota de Luke na X-Wing.\n",
            "\u001b[00m\n",
            "\u001b[95m \n",
            "\n",
            "I tried reusing the same input, I must stop using this action input. I'll try something else instead.\n",
            "\n",
            "\n",
            "\u001b[00m\n",
            "\u001b[95m \n",
            "\n",
            "Millennium Falcon atacando o inimigo, protegendo a rota de Luke na X-Wing.\n",
            "\u001b[00m\n",
            "\u001b[95m \n",
            "\n",
            "Millennium Falcon atacando o inimigo, protegendo a rota de Luke na X-Wing.\n",
            "\u001b[00m\n",
            "\u001b[95m \n",
            "\n",
            "Millennium Falcon atacando o inimigo, protegendo a rota de Luke na X-Wing.\n",
            "\u001b[00m\n",
            "\u001b[95m \n",
            "\n",
            "Millennium Falcon atacando o inimigo, protegendo a rota de Luke na X-Wing.\n",
            "\u001b[00m\n",
            "\u001b[95m \n",
            "\n",
            "Unfortunately, I was unable to gather information about the remaining enemy ships in the area. The Millennium Falcon is still attacking and protecting Luke's route, but I couldn't get a clear report on the enemy ship status. I'll continue to monitor the situation and keep the Millennium Falcon on high alert to ensure Luke's safety.\n",
            "\u001b[00m\n",
            "\u001b[95m \n",
            "\n",
            "Millennium Falcon atacando o inimigo, protegendo a rota de Luke na X-Wing.\n",
            "\u001b[00m\n",
            "\u001b[95m \n",
            "\n",
            "Millennium Falcon atacando o inimigo, protegendo a rota de Luke na X-Wing.\n",
            "\u001b[00m\n",
            "\u001b[95m \n",
            "\n",
            "After scanning the area and checking for remaining enemy ships, I can confirm that the Millennium Falcon has cleared the path for Luke's final attack. The sensors have not detected any remaining enemy ships, and the route is safe for Luke to proceed.\n",
            "\u001b[00m\n",
            "\u001b[95m \n",
            "\n",
            "X-Wing pronto para o ataque final, sistemas de mira ativados. Atacando!\n",
            "    Estrala da Morte Destruida com sucesso!\n",
            "\u001b[00m\n",
            "\u001b[95m \n",
            "\n",
            "\"Luke, it's time! You need to pilot your X-Wing and shoot at the Death Star's weak point to destroy it. The path is clear, and your X-Wing is ready for the final attack. Trust in the Force and take the shot, Luke! You can do it!\"\n",
            "\u001b[00m\n",
            "\u001b[95m \n",
            "\n",
            "X-Wing pronto para o ataque final, sistemas de mira ativados. Atacando!\n",
            "    Estrala da Morte Destruida com sucesso!\n",
            "\u001b[00m\n",
            "\u001b[95m \n",
            "\n",
            "\"Vamos lá, Luke! A X-Wing está pronta para o ataque final, sistemas de mira ativados. Atacando! Estrala da Morte Destruida com sucesso! Você conseguiu, Luke! A Estrela da Morte foi destruída!\"\n",
            "\u001b[00m\n",
            "Falha na missão. Tentando novamente...\n"
          ]
        },
        {
          "output_type": "error",
          "ename": "Exception",
          "evalue": "Manager agent should not have tools",
          "traceback": [
            "\u001b[0;31m---------------------------------------------------------------------------\u001b[0m",
            "\u001b[0;31mException\u001b[0m                                 Traceback (most recent call last)",
            "\u001b[0;32m<ipython-input-103-66fb5c8f7da5>\u001b[0m in \u001b[0;36m<cell line: 14>\u001b[0;34m()\u001b[0m\n\u001b[1;32m     12\u001b[0m \u001b[0;34m\u001b[0m\u001b[0m\n\u001b[1;32m     13\u001b[0m \u001b[0;31m# Exemplo de execução da equipe\u001b[0m\u001b[0;34m\u001b[0m\u001b[0;34m\u001b[0m\u001b[0m\n\u001b[0;32m---> 14\u001b[0;31m \u001b[0mresultado\u001b[0m \u001b[0;34m=\u001b[0m \u001b[0mkickoff\u001b[0m\u001b[0;34m(\u001b[0m\u001b[0;34m)\u001b[0m\u001b[0;34m\u001b[0m\u001b[0;34m\u001b[0m\u001b[0m\n\u001b[0m\u001b[1;32m     15\u001b[0m \u001b[0mprint\u001b[0m\u001b[0;34m(\u001b[0m\u001b[0mresultado\u001b[0m\u001b[0;34m)\u001b[0m\u001b[0;34m\u001b[0m\u001b[0;34m\u001b[0m\u001b[0m\n",
            "\u001b[0;32m<ipython-input-103-66fb5c8f7da5>\u001b[0m in \u001b[0;36mkickoff\u001b[0;34m()\u001b[0m\n\u001b[1;32m      9\u001b[0m     \u001b[0;32melse\u001b[0m\u001b[0;34m:\u001b[0m\u001b[0;34m\u001b[0m\u001b[0;34m\u001b[0m\u001b[0m\n\u001b[1;32m     10\u001b[0m         \u001b[0mprint\u001b[0m\u001b[0;34m(\u001b[0m\u001b[0;34m\"Falha na missão. Tentando novamente...\"\u001b[0m\u001b[0;34m)\u001b[0m\u001b[0;34m\u001b[0m\u001b[0;34m\u001b[0m\u001b[0m\n\u001b[0;32m---> 11\u001b[0;31m         \u001b[0;32mreturn\u001b[0m \u001b[0mkickoff\u001b[0m\u001b[0;34m(\u001b[0m\u001b[0;34m)\u001b[0m  \u001b[0;31m# Recursivamente chame kickoff até concluir com sucesso\u001b[0m\u001b[0;34m\u001b[0m\u001b[0;34m\u001b[0m\u001b[0m\n\u001b[0m\u001b[1;32m     12\u001b[0m \u001b[0;34m\u001b[0m\u001b[0m\n\u001b[1;32m     13\u001b[0m \u001b[0;31m# Exemplo de execução da equipe\u001b[0m\u001b[0;34m\u001b[0m\u001b[0;34m\u001b[0m\u001b[0m\n",
            "\u001b[0;32m<ipython-input-103-66fb5c8f7da5>\u001b[0m in \u001b[0;36mkickoff\u001b[0;34m()\u001b[0m\n\u001b[1;32m      1\u001b[0m \u001b[0;31m# Função para iniciar a missão\u001b[0m\u001b[0;34m\u001b[0m\u001b[0;34m\u001b[0m\u001b[0m\n\u001b[1;32m      2\u001b[0m \u001b[0;32mdef\u001b[0m \u001b[0mkickoff\u001b[0m\u001b[0;34m(\u001b[0m\u001b[0;34m)\u001b[0m\u001b[0;34m:\u001b[0m\u001b[0;34m\u001b[0m\u001b[0;34m\u001b[0m\u001b[0m\n\u001b[0;32m----> 3\u001b[0;31m     \u001b[0mresult\u001b[0m \u001b[0;34m=\u001b[0m \u001b[0malianca_rebelde\u001b[0m\u001b[0;34m.\u001b[0m\u001b[0mkickoff\u001b[0m\u001b[0;34m(\u001b[0m\u001b[0;34m)\u001b[0m\u001b[0;34m\u001b[0m\u001b[0;34m\u001b[0m\u001b[0m\n\u001b[0m\u001b[1;32m      4\u001b[0m     \u001b[0;31m# Verifique se a tarefa final foi concluída com sucesso\u001b[0m\u001b[0;34m\u001b[0m\u001b[0;34m\u001b[0m\u001b[0m\n\u001b[1;32m      5\u001b[0m     \u001b[0;32mif\u001b[0m \u001b[0mresult\u001b[0m \u001b[0;34m==\u001b[0m \u001b[0;34m\"Estrela da Morte destruída, missão bem-sucedida.\"\u001b[0m\u001b[0;34m:\u001b[0m\u001b[0;34m\u001b[0m\u001b[0;34m\u001b[0m\u001b[0m\n",
            "\u001b[0;32m/usr/local/lib/python3.10/dist-packages/crewai/crew.py\u001b[0m in \u001b[0;36mkickoff\u001b[0;34m(self, inputs)\u001b[0m\n\u001b[1;32m    346\u001b[0m             \u001b[0mresult\u001b[0m \u001b[0;34m=\u001b[0m \u001b[0mself\u001b[0m\u001b[0;34m.\u001b[0m\u001b[0m_run_sequential_process\u001b[0m\u001b[0;34m(\u001b[0m\u001b[0;34m)\u001b[0m\u001b[0;34m\u001b[0m\u001b[0;34m\u001b[0m\u001b[0m\n\u001b[1;32m    347\u001b[0m         \u001b[0;32melif\u001b[0m \u001b[0mself\u001b[0m\u001b[0;34m.\u001b[0m\u001b[0mprocess\u001b[0m \u001b[0;34m==\u001b[0m \u001b[0mProcess\u001b[0m\u001b[0;34m.\u001b[0m\u001b[0mhierarchical\u001b[0m\u001b[0;34m:\u001b[0m\u001b[0;34m\u001b[0m\u001b[0;34m\u001b[0m\u001b[0m\n\u001b[0;32m--> 348\u001b[0;31m             \u001b[0mresult\u001b[0m\u001b[0;34m,\u001b[0m \u001b[0mmanager_metrics\u001b[0m \u001b[0;34m=\u001b[0m \u001b[0mself\u001b[0m\u001b[0;34m.\u001b[0m\u001b[0m_run_hierarchical_process\u001b[0m\u001b[0;34m(\u001b[0m\u001b[0;34m)\u001b[0m  \u001b[0;31m# type: ignore # Incompatible types in assignment (expression has type \"str | dict[str, Any]\", variable has type \"str\")\u001b[0m\u001b[0;34m\u001b[0m\u001b[0;34m\u001b[0m\u001b[0m\n\u001b[0m\u001b[1;32m    349\u001b[0m             \u001b[0mmetrics\u001b[0m\u001b[0;34m.\u001b[0m\u001b[0mappend\u001b[0m\u001b[0;34m(\u001b[0m\u001b[0mmanager_metrics\u001b[0m\u001b[0;34m)\u001b[0m\u001b[0;34m\u001b[0m\u001b[0;34m\u001b[0m\u001b[0m\n\u001b[1;32m    350\u001b[0m         \u001b[0;32melse\u001b[0m\u001b[0;34m:\u001b[0m\u001b[0;34m\u001b[0m\u001b[0;34m\u001b[0m\u001b[0m\n",
            "\u001b[0;32m/usr/local/lib/python3.10/dist-packages/crewai/crew.py\u001b[0m in \u001b[0;36m_run_hierarchical_process\u001b[0;34m(self)\u001b[0m\n\u001b[1;32m    471\u001b[0m             \u001b[0mmanager\u001b[0m \u001b[0;34m=\u001b[0m \u001b[0mself\u001b[0m\u001b[0;34m.\u001b[0m\u001b[0mmanager_agent\u001b[0m\u001b[0;34m\u001b[0m\u001b[0;34m\u001b[0m\u001b[0m\n\u001b[1;32m    472\u001b[0m             \u001b[0;32mif\u001b[0m \u001b[0mmanager\u001b[0m\u001b[0;34m.\u001b[0m\u001b[0mtools\u001b[0m \u001b[0;32mis\u001b[0m \u001b[0;32mnot\u001b[0m \u001b[0;32mNone\u001b[0m \u001b[0;32mand\u001b[0m \u001b[0mlen\u001b[0m\u001b[0;34m(\u001b[0m\u001b[0mmanager\u001b[0m\u001b[0;34m.\u001b[0m\u001b[0mtools\u001b[0m\u001b[0;34m)\u001b[0m \u001b[0;34m>\u001b[0m \u001b[0;36m0\u001b[0m\u001b[0;34m:\u001b[0m\u001b[0;34m\u001b[0m\u001b[0;34m\u001b[0m\u001b[0m\n\u001b[0;32m--> 473\u001b[0;31m                 \u001b[0;32mraise\u001b[0m \u001b[0mException\u001b[0m\u001b[0;34m(\u001b[0m\u001b[0;34m\"Manager agent should not have tools\"\u001b[0m\u001b[0;34m)\u001b[0m\u001b[0;34m\u001b[0m\u001b[0;34m\u001b[0m\u001b[0m\n\u001b[0m\u001b[1;32m    474\u001b[0m             \u001b[0mmanager\u001b[0m\u001b[0;34m.\u001b[0m\u001b[0mtools\u001b[0m \u001b[0;34m=\u001b[0m \u001b[0mself\u001b[0m\u001b[0;34m.\u001b[0m\u001b[0mmanager_agent\u001b[0m\u001b[0;34m.\u001b[0m\u001b[0mget_delegation_tools\u001b[0m\u001b[0;34m(\u001b[0m\u001b[0mself\u001b[0m\u001b[0;34m.\u001b[0m\u001b[0magents\u001b[0m\u001b[0;34m)\u001b[0m\u001b[0;34m\u001b[0m\u001b[0;34m\u001b[0m\u001b[0m\n\u001b[1;32m    475\u001b[0m         \u001b[0;32melse\u001b[0m\u001b[0;34m:\u001b[0m\u001b[0;34m\u001b[0m\u001b[0;34m\u001b[0m\u001b[0m\n",
            "\u001b[0;31mException\u001b[0m: Manager agent should not have tools"
          ]
        }
      ],
      "source": [
        "# Função para iniciar a missão\n",
        "def kickoff():\n",
        "    result = alianca_rebelde.kickoff()\n",
        "    # Verifique se a tarefa final foi concluída com sucesso\n",
        "    if result == \"Estrela da Morte destruída, missão bem-sucedida.\":\n",
        "        print(\"Missão concluída com sucesso!\")\n",
        "        print(\"VENCEMOS JUNTOS!\")\n",
        "        return result\n",
        "    else:\n",
        "        print(\"Falha na missão. Tentando novamente...\")\n",
        "        return kickoff()  # Recursivamente chame kickoff até concluir com sucesso\n",
        "\n",
        "# Exemplo de execução da equipe\n",
        "resultado = kickoff()\n",
        "print(resultado)"
      ]
    }
  ],
  "metadata": {
    "colab": {
      "provenance": [],
      "authorship_tag": "ABX9TyOKJxmJWFFAU4JQ8rMgHsAU",
      "include_colab_link": true
    },
    "kernelspec": {
      "display_name": "Python 3",
      "name": "python3"
    },
    "language_info": {
      "name": "python"
    }
  },
  "nbformat": 4,
  "nbformat_minor": 0
}